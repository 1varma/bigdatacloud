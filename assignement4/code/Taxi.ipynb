{
 "cells": [
  {
   "cell_type": "code",
   "execution_count": 3,
   "id": "cd116a74-4096-4cfb-9078-35c3117e9269",
   "metadata": {
    "ExecuteTime": {
     "end_time": "2025-02-25T03:39:27.625650Z",
     "start_time": "2025-02-25T03:39:27.621300Z"
    }
   },
   "outputs": [],
   "source": [
    "import math, csv\n",
    "\n",
    "f = open('trip_data_1.csv', 'r')\n",
    "reader = csv.DictReader(f)"
   ]
  },
  {
   "cell_type": "markdown",
   "id": "92d33c19",
   "metadata": {},
   "source": [
    "### Data Cleaning and Processing\n",
    "\n",
    "- The incorrect data sources might store values incorrectly, expecially when working with raw GPS data, simulations, or conversions.\n",
    "- If the data orginates from a different coordinate system(like UTM or Mercator), conversions might introduce large values.\n",
    "- Operations like interpolation, transformations, or machine learning predictions might unintentionally generate out-of-bound values."
   ]
  },
  {
   "cell_type": "code",
   "execution_count": 4,
   "id": "d4fc664e",
   "metadata": {},
   "outputs": [],
   "source": [
    "def normalize_latitude(lat):\n",
    "    lat = float(lat)\n",
    "    return (lat + 90) % 180 - 90 if lat < -90 or lat > 90 else lat\n",
    "\n",
    "def normalize_longitude(lon):\n",
    "    lon = float(lon)\n",
    "    return (lon + 180) % 360 - 180 if lon < -180 or lon > 180 else lon"
   ]
  },
  {
   "cell_type": "markdown",
   "id": "e9533127e8e2b6ea",
   "metadata": {},
   "source": [
    "### What datetime range does your data cover?  How many rows are there total?\n",
    "\n",
    "- It covers 3 datetime ranges those are pickup_datetime, dropoff_datetime, trip_time_in_secs in the year-month-day hh:mm:ss."
   ]
  },
  {
   "cell_type": "code",
   "execution_count": 5,
   "id": "086e2d4f-2967-439d-a250-57588a7ba319",
   "metadata": {
    "ExecuteTime": {
     "end_time": "2025-02-25T02:27:45.218789Z",
     "start_time": "2025-02-25T02:25:28.542731Z"
    }
   },
   "outputs": [
    {
     "name": "stdout",
     "output_type": "stream",
     "text": [
      "14776615\n"
     ]
    }
   ],
   "source": [
    "counter = 0\n",
    "for row in reader:\n",
    "    counter += 1\n",
    "\n",
    "print(counter)"
   ]
  },
  {
   "cell_type": "markdown",
   "id": "1e39205ab69ee6",
   "metadata": {},
   "source": [
    "### What are the field names?  Give descriptions for each field.\n",
    "\n",
    "- medallion: a permit that allows a person or business to operate a taxi in the city.\n",
    "- hack_license: diver license\n",
    "- vendor_id: A code indicating the TPEP provider that provided the record. It has two vendors CMT and VTS.\n",
    "- rate_code: Rate category\n",
    "- store_and_fwd_flag: This flag indicates whether the trip record was held in vehicle memory before sending to the vendor, aka “store and forward,” because the vehicle did not have a connection to the server.   Y= store and forward trip N= not a store and forward trip\n",
    "- pickup_datetime: The date and time when the meter was engaged.\n",
    "- dropoff_datetime: The date and time when the meter was disengaged.\n",
    "- passenger_count: The number of passengers in the vehicle. This is a driver-entered value.\n",
    "- trip_time_in_secs: The total time in seconds for passenger trip.\n",
    "- trip_distance: The distance covered in the trip.\n",
    "- pickup_longitude: Longitude where the meter was engaged.\n",
    "- pickup_latitude: Latitude where the meter was engaged.\n",
    "- dropoff_longitude: Longitude where the meter was disengaged.\n",
    "- dropoff_latitude: Latitude where the meter was disengaged."
   ]
  },
  {
   "cell_type": "code",
   "execution_count": 6,
   "id": "e013d863-78f2-4b3c-ab9e-333fca21798c",
   "metadata": {
    "ExecuteTime": {
     "end_time": "2025-02-25T02:27:56.270592Z",
     "start_time": "2025-02-25T02:27:56.267251Z"
    }
   },
   "outputs": [
    {
     "name": "stdout",
     "output_type": "stream",
     "text": [
      "['medallion', 'hack_license', 'vendor_id', 'rate_code', 'store_and_fwd_flag', 'pickup_datetime', 'dropoff_datetime', 'passenger_count', 'trip_time_in_secs', 'trip_distance', 'pickup_longitude', 'pickup_latitude', 'dropoff_longitude', 'dropoff_latitude']\n"
     ]
    }
   ],
   "source": [
    "fieldnames = reader.fieldnames\n",
    "print(fieldnames)"
   ]
  },
  {
   "cell_type": "markdown",
   "id": "f0e0c7ecfdf72dac",
   "metadata": {},
   "source": [
    "### What MySQL data types / len would you need to store each of the fields?\n",
    "\n",
    "- medallion: will take 32 character hexadecimal strings so `CHAR(32)` is ideal (fixed length means less overhead)\n",
    "- hack_license: will tke 32 character hexadecimal strings so `CHAR(32)` is ideal.\n",
    "- vendor_id: Since it contains CMT and VTS, a fixed length `CHAR(3)` works nicely.\n",
    "- rate_code: small numeric field can be stored as TINY INT Unsigned.\n",
    "- store_and_fwd_flag: One-character flag such as `N` or `Y` fits pefectly in `BOOLEAN`.\n",
    "- pickup_datetime & dropoff_datetime: These fields include both date and time, so the `DATETIME` type is a natural fit.\n",
    "- passenger_count: Typically a small number (1, 2, or 3), so `TINYINT UNSIGNED` is sufficient.\n",
    "- trip_time_in_secs: This is mostly trip durations as modest, using `INT UNSIGNED` ensures you cover any long rides.\n",
    "- trip_distance: With values like `2.10` or `9.50`, `DECIMAL(4,2)` allows up to 99.99 miles, which is ample for NYC trips.\n",
    "- pickup_longitude & pickup_latitude & dropoff_longitude & dropoff_latitude: Using `DECIMAL(9,6)` provides a good balance between range and precision for latitude and longitude.\n"
   ]
  },
  {
   "cell_type": "markdown",
   "id": "9bda785b30100404",
   "metadata": {},
   "source": [
    "### Give some sample data for each field."
   ]
  },
  {
   "cell_type": "code",
   "execution_count": 7,
   "id": "f98e6c2c64ec886f",
   "metadata": {
    "ExecuteTime": {
     "end_time": "2025-02-25T02:31:46.646315Z",
     "start_time": "2025-02-25T02:31:46.634503Z"
    }
   },
   "outputs": [
    {
     "name": "stdout",
     "output_type": "stream",
     "text": [
      "medallion 89D227B655E5C82AECF13C3F540D4CF4\n",
      "medallion 0BD7C8F5BA12B88E0B67BED28BEA73D8\n",
      "medallion 0BD7C8F5BA12B88E0B67BED28BEA73D8\n",
      "medallion DFD2202EE08F7A8DC9A57B02ACB81FE2\n",
      "medallion DFD2202EE08F7A8DC9A57B02ACB81FE2\n",
      "medallion 20D9ECB2CA0767CF7A01564DF2844A3E\n",
      "medallion 496644932DF3932605C22C7926FF0FE0\n",
      "medallion 0B57B9633A2FECD3D3B1944AFC7471CF\n",
      "medallion 2C0E91FF20A856C891483ED63589F982\n",
      "medallion 2D4B95E2FA7B2E85118EC5CA4570FA58\n",
      "================================\n",
      "hack_license 06918214E951FA0003D1CC54955C2AB0\n",
      "hack_license 06918214E951FA0003D1CC54955C2AB0\n",
      "hack_license E949C583ECF62C8F03FDCE1484954A08\n",
      "hack_license 93C363DDF8ED9385D65FAD07CE3F5F07\n",
      "hack_license 7CE849FEF67514F080AF80D990F7EF7F\n",
      "hack_license 7CE849FEF67514F080AF80D990F7EF7F\n",
      "hack_license 351BE7D984BE17DB2FA80A748E816472\n",
      "hack_license 460C3F57DD9CB2265DB75B14CD70224D\n",
      "hack_license 36773E80775F26CD1158EB5450A61C79\n",
      "hack_license D2363240A9295EF570FC6069BC4F4C92\n",
      "================================\n",
      "vendor_id CMT\n",
      "vendor_id CMT\n",
      "vendor_id CMT\n",
      "vendor_id CMT\n",
      "vendor_id CMT\n",
      "vendor_id CMT\n",
      "vendor_id CMT\n",
      "vendor_id CMT\n",
      "vendor_id CMT\n",
      "vendor_id CMT\n",
      "================================\n",
      "rate_code 1\n",
      "rate_code 1\n",
      "rate_code 1\n",
      "rate_code 1\n",
      "rate_code 1\n",
      "rate_code 1\n",
      "rate_code 1\n",
      "rate_code 1\n",
      "rate_code 1\n",
      "rate_code 1\n",
      "================================\n",
      "store_and_fwd_flag N\n",
      "store_and_fwd_flag N\n",
      "store_and_fwd_flag N\n",
      "store_and_fwd_flag N\n",
      "store_and_fwd_flag N\n",
      "store_and_fwd_flag N\n",
      "store_and_fwd_flag N\n",
      "store_and_fwd_flag N\n",
      "store_and_fwd_flag N\n",
      "store_and_fwd_flag N\n",
      "================================\n",
      "pickup_datetime 2013-01-08 15:17:50\n",
      "pickup_datetime 2013-01-07 18:24:11\n",
      "pickup_datetime 2013-01-10 12:20:38\n",
      "pickup_datetime 2013-01-07 10:15:19\n",
      "pickup_datetime 2013-01-08 13:56:41\n",
      "pickup_datetime 2013-01-10 17:19:42\n",
      "pickup_datetime 2013-01-10 13:16:11\n",
      "pickup_datetime 2013-01-08 00:02:36\n",
      "pickup_datetime 2013-01-07 17:54:25\n",
      "pickup_datetime 2013-01-08 10:38:22\n",
      "================================\n",
      "dropoff_datetime 2013-01-07 20:25:01\n",
      "dropoff_datetime 2013-01-08 01:23:09\n",
      "dropoff_datetime 2013-01-07 18:19:41\n",
      "dropoff_datetime 2013-01-07 19:00:14\n",
      "dropoff_datetime 2013-01-08 11:48:13\n",
      "dropoff_datetime 2013-01-07 21:06:01\n",
      "dropoff_datetime 2013-01-07 18:52:54\n",
      "dropoff_datetime 2013-01-10 15:28:22\n",
      "dropoff_datetime 2013-01-10 15:07:35\n",
      "dropoff_datetime 2013-01-08 13:32:24\n",
      "================================\n",
      "passenger_count 1\n",
      "passenger_count 1\n",
      "passenger_count 1\n",
      "passenger_count 1\n",
      "passenger_count 2\n",
      "passenger_count 1\n",
      "passenger_count 2\n",
      "passenger_count 3\n",
      "passenger_count 3\n",
      "passenger_count 1\n",
      "================================\n",
      "trip_time_in_secs 153\n",
      "trip_time_in_secs 549\n",
      "trip_time_in_secs 322\n",
      "trip_time_in_secs 386\n",
      "trip_time_in_secs 455\n",
      "trip_time_in_secs 210\n",
      "trip_time_in_secs 508\n",
      "trip_time_in_secs 496\n",
      "trip_time_in_secs 4\n",
      "trip_time_in_secs 104\n",
      "================================\n",
      "trip_distance 2.10\n",
      "trip_distance .80\n",
      "trip_distance .70\n",
      "trip_distance 1.60\n",
      "trip_distance 2.60\n",
      "trip_distance .90\n",
      "trip_distance 3.40\n",
      "trip_distance .60\n",
      "trip_distance 9.50\n",
      "trip_distance 1.00\n",
      "================================\n",
      "pickup_longitude 0\n",
      "pickup_longitude -73.985962\n",
      "pickup_longitude -73.783318\n",
      "pickup_longitude -74.00843\n",
      "pickup_longitude -73.987953\n",
      "pickup_longitude -73.994026\n",
      "pickup_longitude -73.997856\n",
      "pickup_longitude -73.988632\n",
      "pickup_longitude -73.990204\n",
      "pickup_longitude -73.994225\n",
      "================================\n",
      "pickup_latitude 40.756092\n",
      "pickup_latitude 40.747326\n",
      "pickup_latitude 40.742233\n",
      "pickup_latitude 40.750286\n",
      "pickup_latitude 40.741451\n",
      "pickup_latitude 40.788956\n",
      "pickup_latitude 40.75679\n",
      "pickup_latitude 40.723125\n",
      "pickup_latitude 40.720913\n",
      "pickup_latitude 40.767769\n",
      "================================\n",
      "dropoff_longitude -73.979843\n",
      "dropoff_longitude -73.956772\n",
      "dropoff_longitude -73.991211\n",
      "dropoff_longitude -73.789879\n",
      "dropoff_longitude -73.993591\n",
      "dropoff_longitude -73.980858\n",
      "dropoff_longitude -74.00518\n",
      "dropoff_longitude -73.984528\n",
      "dropoff_longitude -73.978607\n",
      "dropoff_longitude -73.983322\n",
      "================================\n",
      "dropoff_latitude 40.756248\n",
      "dropoff_latitude 40.80088\n",
      "dropoff_latitude 40.762878\n",
      "dropoff_latitude 40.716911\n",
      "dropoff_latitude 40.735664\n",
      "dropoff_latitude 40.756035\n",
      "dropoff_latitude 40.741436\n",
      "dropoff_latitude 40.745613\n",
      "dropoff_latitude 40.747856\n",
      "dropoff_latitude 40.743031\n",
      "================================\n"
     ]
    }
   ],
   "source": [
    "f = open('trip_data_1.csv', 'r')\n",
    "reader = csv.DictReader(f)\n",
    "\n",
    "counter = 10\n",
    "\n",
    "for field in fieldnames:\n",
    "    flag = 0\n",
    "    for row in reader:\n",
    "        print(field,row[field])\n",
    "        flag += 1\n",
    "        if flag == counter:\n",
    "            print(\"================================\")\n",
    "            break"
   ]
  },
  {
   "cell_type": "markdown",
   "id": "4490ac6f8f35826c",
   "metadata": {},
   "source": [
    "### What is the geographic range of your data (min/max - X/Y)?"
   ]
  },
  {
   "cell_type": "code",
   "execution_count": 8,
   "id": "c785673742b03a00",
   "metadata": {
    "ExecuteTime": {
     "end_time": "2025-02-25T03:42:18.123744Z",
     "start_time": "2025-02-25T03:42:18.029530Z"
    }
   },
   "outputs": [
    {
     "name": "stdout",
     "output_type": "stream",
     "text": [
      "Computed boundaries:\n",
      "Latitude:  40.645866 to 40.814453\n",
      "Longitude: -74.014481 to -73.789703\n",
      "South West Corner: 40.645866, -74.014481\n",
      "South East Corner: 40.645866, -73.789703\n",
      "North West Corner: 40.814453, -74.014481\n",
      "North East Corner: 40.814453, -73.789703\n"
     ]
    }
   ],
   "source": [
    "f = open('trip_data_1.csv', 'r')\n",
    "reader = csv.DictReader(f)\n",
    "\n",
    "def valid_coordinate(lat, lon):\n",
    "    if lat == 0 or lon == 0:\n",
    "        return False\n",
    "    if not (-90 <= lat <= 90):\n",
    "        return False\n",
    "    if not (-180 <= lon <= 180):\n",
    "        return False\n",
    "    return True\n",
    "\n",
    "\n",
    "all_lats = []\n",
    "all_lons = []\n",
    "\n",
    "for row in reader:\n",
    "    try:\n",
    "        p_lat = normalize_latitude(row['pickup_latitude'])\n",
    "        p_lon = normalize_longitude(row['pickup_longitude'])\n",
    "        d_lat = normalize_latitude(row['dropoff_latitude'])\n",
    "        d_lon = normalize_longitude(row['dropoff_longitude'])\n",
    "    except ValueError:\n",
    "        continue \n",
    "\n",
    "    if valid_coordinate(p_lat, p_lon):\n",
    "        all_lats.append(p_lat)\n",
    "        all_lons.append(p_lon)\n",
    "    if valid_coordinate(d_lat, d_lon):\n",
    "        all_lats.append(d_lat)\n",
    "        all_lons.append(d_lon)\n",
    "\n",
    "if not all_lats or not all_lons:\n",
    "    raise ValueError(\"No valid coordinates found.\")\n",
    "\n",
    "\n",
    "all_lats.sort()\n",
    "all_lons.sort()\n",
    "\n",
    "if len(all_lats) >= 100:\n",
    "    lower_idx_lat = int(len(all_lats) * 0.01)\n",
    "    upper_idx_lat = int(len(all_lats) * 0.99) - 1\n",
    "    min_lat = all_lats[lower_idx_lat]\n",
    "    max_lat = all_lats[upper_idx_lat]\n",
    "else:\n",
    "    min_lat = all_lats[0]\n",
    "    max_lat = all_lats[-1]\n",
    "\n",
    "if len(all_lons) >= 100:\n",
    "    lower_idx_lon = int(len(all_lons) * 0.01)\n",
    "    upper_idx_lon = int(len(all_lons) * 0.99) - 1\n",
    "    min_lon = all_lons[lower_idx_lon]\n",
    "    max_lon = all_lons[upper_idx_lon]\n",
    "else:\n",
    "    min_lon = all_lons[0]\n",
    "    max_lon = all_lons[-1]\n",
    "\n",
    "print(\"Computed boundaries:\")\n",
    "print(f\"Latitude:  {min_lat} to {max_lat}\")\n",
    "print(f\"Longitude: {min_lon} to {max_lon}\")\n",
    "\n",
    "center_lat = (min_lat + max_lat) / 2\n",
    "center_lon = (min_lon + max_lon) / 2\n",
    "\n",
    "\n",
    "bounds = [[min_lat, min_lon], [max_lat, max_lon]]\n",
    "\n",
    "print(f'South West Corner: {min_lat}, {min_lon}')\n",
    "print(f'South East Corner: {min_lat}, {max_lon}')\n",
    "print(f'North West Corner: {max_lat}, {min_lon}')\n",
    "print(f'North East Corner: {max_lat}, {max_lon}')"
   ]
  },
  {
   "cell_type": "markdown",
   "id": "2d52a897959e6a1e",
   "metadata": {},
   "source": [
    "### Create a new CSV file which has only one out of every thousand rows."
   ]
  },
  {
   "cell_type": "code",
   "execution_count": 9,
   "id": "5ea6c951640f147f",
   "metadata": {
    "ExecuteTime": {
     "end_time": "2025-02-25T02:37:47.207155Z",
     "start_time": "2025-02-25T02:37:01.874003Z"
    }
   },
   "outputs": [],
   "source": [
    "f = open('trip_data_1.csv', 'r')\n",
    "reader = csv.DictReader(f)\n",
    "\n",
    "with open('trip_data_2.csv', 'w', newline='') as outfile:\n",
    "    writer = csv.DictWriter(outfile, fieldnames=fieldnames)\n",
    "    writer.writeheader()\n",
    "\n",
    "    counter = 0\n",
    "    for row in reader:\n",
    "        if counter%1000 == 0:\n",
    "            writer.writerow(row)\n",
    "        counter += 1"
   ]
  },
  {
   "cell_type": "markdown",
   "id": "17755c4d83d266d9",
   "metadata": {},
   "source": [
    "### What is the average overall computed trip distance? (You should use Haversine Distance)"
   ]
  },
  {
   "cell_type": "code",
   "execution_count": 10,
   "id": "6c5c0721f48888dd",
   "metadata": {
    "ExecuteTime": {
     "end_time": "2025-02-25T03:48:51.391955Z",
     "start_time": "2025-02-25T03:47:11.775570Z"
    }
   },
   "outputs": [
    {
     "name": "stdout",
     "output_type": "stream",
     "text": [
      "Total valid trips: 14488493\n",
      "Total computed distance: 29189875.26 miles\n",
      "Average trip distance: 2.01 miles\n"
     ]
    }
   ],
   "source": [
    "def haversine_distance(lat1, lon1, lat2, lon2, unit='miles'):\n",
    "    lat1_rad, lon1_rad, lat2_rad, lon2_rad = map(math.radians, [lat1, lon1, lat2, lon2])\n",
    "\n",
    "    dlat = lat2_rad - lat1_rad\n",
    "    dlon = lon2_rad - lon1_rad\n",
    "    a = math.sin(dlat / 2)**2 + math.cos(lat1_rad) * math.cos(lat2_rad) * math.sin(dlon / 2)**2\n",
    "    c = 2 * math.atan2(math.sqrt(a), math.sqrt(1 - a))\n",
    "\n",
    "    if unit == 'miles':\n",
    "        radius = 3959\n",
    "    elif unit == 'km':\n",
    "        radius = 6371\n",
    "    else:\n",
    "        raise ValueError(\"Unit must be 'miles' or 'km'.\")\n",
    "\n",
    "    return radius * c\n",
    "\n",
    "total_distance = 0.0\n",
    "trip_count = 0\n",
    "trip_distances = []\n",
    "\n",
    "\n",
    "max_valid_distance = 100  # miles\n",
    "\n",
    "f = open('trip_data_1.csv', 'r')\n",
    "reader = csv.DictReader(f)\n",
    "\n",
    "for row in reader:\n",
    "    try:\n",
    "        p_lat = normalize_latitude(row['pickup_latitude'])\n",
    "        p_lon = normalize_longitude(row['pickup_longitude'])\n",
    "        d_lat = normalize_latitude(row['dropoff_latitude'])\n",
    "        d_lon = normalize_longitude(row['dropoff_longitude'])\n",
    "    except ValueError:\n",
    "        continue\n",
    "\n",
    "    if not (valid_coordinate(p_lat, p_lon) and valid_coordinate(d_lat, d_lon)):\n",
    "        continue\n",
    "\n",
    "    distance = haversine_distance(p_lat, p_lon, d_lat, d_lon, unit='miles')\n",
    "\n",
    "    if 0 < distance < 100:\n",
    "        trip_distances.append(distance)\n",
    "\n",
    "    if distance > max_valid_distance:\n",
    "        continue\n",
    "\n",
    "    total_distance += distance\n",
    "    trip_count += 1\n",
    "\n",
    "if trip_count > 0:\n",
    "    average_distance = total_distance / trip_count\n",
    "    print(f\"Total valid trips: {trip_count}\")\n",
    "    print(f\"Total computed distance: {total_distance:.2f} miles\")\n",
    "    print(f\"Average trip distance: {average_distance:.2f} miles\")\n",
    "else:\n",
    "    print(\"No valid trips found.\")"
   ]
  },
  {
   "cell_type": "markdown",
   "id": "65313f6b",
   "metadata": {},
   "source": [
    "### Draw a histogram of the trip distances binned anyway you see fit."
   ]
  },
  {
   "cell_type": "code",
   "execution_count": 11,
   "id": "463f194c",
   "metadata": {},
   "outputs": [
    {
     "data": {
      "image/png": "[encoded data removed]",
      "text/plain": [
       "<Figure size 1000x500 with 1 Axes>"
      ]
     },
     "metadata": {},
     "output_type": "display_data"
    }
   ],
   "source": [
    "import matplotlib.pyplot as plt\n",
    "\n",
    "trip_distances_limited = [d for d in trip_distances if d <= 16]\n",
    "\n",
    "plt.figure(figsize=(10,5))\n",
    "plt.hist(trip_distances_limited, bins=30)\n",
    "plt.xlabel('Trip Distance')\n",
    "plt.ylabel('Frequency')\n",
    "plt.title('Histogram of Trip Distances')\n",
    "\n",
    "plt.show()"
   ]
  },
  {
   "cell_type": "markdown",
   "id": "f7ddd2ec",
   "metadata": {},
   "source": [
    "### What are the distinct values for each field?"
   ]
  },
  {
   "cell_type": "code",
   "execution_count": 12,
   "id": "a2ac7ed6",
   "metadata": {},
   "outputs": [
    {
     "name": "stdout",
     "output_type": "stream",
     "text": [
      "Distinct values for 'vendor_id': {'CMT', 'VTS'}\n",
      "Distinct values for 'rate_code': {'4', '5', '9', '1', '2', '128', '8', '3', '7', '0', '28', '6', '65', '210'}\n",
      "Distinct values for 'store_and_fwd_flag': {'', 'Y', 'N'}\n",
      "Distinct values for 'passenger_count': {'4', '5', '255', '9', '1', '2', '3', '0', '6', '208'}\n"
     ]
    }
   ],
   "source": [
    "def distinctValues(filename, fieldname, num_samples = counter):\n",
    "    distinct_vals = set()\n",
    "    try:\n",
    "        with open(filename, 'r') as file:\n",
    "            reader = csv.DictReader(file)\n",
    "            for i, row in enumerate(reader):\n",
    "                if i >= num_samples:\n",
    "                    break\n",
    "                if fieldname in row:\n",
    "                    distinct_vals.add(row[fieldname])\n",
    "    except FileNotFoundError:\n",
    "        print(f\"Error: File '{filename}' not found.\")\n",
    "        return set()\n",
    "    return distinct_vals\n",
    "\n",
    "filename = 'trip_data_1.csv'\n",
    "for fieldname in ['vendor_id', 'rate_code', 'store_and_fwd_flag', 'passenger_count']:\n",
    "    distinct_values_set = distinctValues(filename, fieldname)\n",
    "    print(f\"Distinct values for '{fieldname}': {distinct_values_set}\")"
   ]
  },
  {
   "cell_type": "markdown",
   "id": "11614595",
   "metadata": {},
   "source": [
    "### For other numeric types besides lat and lon, what are the min and max values?"
   ]
  },
  {
   "cell_type": "code",
   "execution_count": 13,
   "id": "789c0005",
   "metadata": {},
   "outputs": [
    {
     "name": "stdout",
     "output_type": "stream",
     "text": [
      "Field: passenger_count\n",
      "  Min: 0.0\n",
      "  Max: 255.0\n",
      "Field: trip_time_in_secs\n",
      "  Min: 0.0\n",
      "  Max: 10800.0\n",
      "Field: trip_distance\n",
      "  Min: 0.0\n",
      "  Max: 100.0\n"
     ]
    }
   ],
   "source": [
    "def analyze_numeric_fields(filename, fields_to_analyze):\n",
    "    min_max_values = {field: {'min': float('inf'), 'max': float('-inf')} for field in fields_to_analyze}\n",
    "\n",
    "    try:\n",
    "        with open(filename, 'r', newline='', encoding='utf-8') as file:\n",
    "            reader = csv.DictReader(file)\n",
    "            rows_processed = 0\n",
    "\n",
    "            for row in reader:\n",
    "                rows_processed += 1\n",
    "                for field in fields_to_analyze:\n",
    "                    try:\n",
    "                        if field in row and row[field].strip():\n",
    "                            value = float(row[field])\n",
    "                            min_max_values[field]['min'] = min(min_max_values[field]['min'], value)\n",
    "                            min_max_values[field]['max'] = max(min_max_values[field]['max'], value)\n",
    "                    except ValueError as e:\n",
    "                        print(e)\n",
    "        \n",
    "        for field in min_max_values:\n",
    "            if min_max_values[field]['min'] == float('inf'):\n",
    "                min_max_values[field]['min'] = None\n",
    "            if min_max_values[field]['max'] == float('-inf'):\n",
    "                min_max_values[field]['max'] = None\n",
    "    \n",
    "    except FileNotFoundError as e:\n",
    "        print(e)\n",
    "        return None\n",
    "    \n",
    "    return min_max_values\n",
    "\n",
    "filename = 'trip_data_1.csv'\n",
    "fields = ['passenger_count', 'trip_time_in_secs', 'trip_distance']\n",
    "results = analyze_numeric_fields(filename, fields)\n",
    "\n",
    "if results:\n",
    "    for field, min_max in results.items():\n",
    "        print(f\"Field: {field}\")\n",
    "        print(f\"  Min: {min_max['min']}\")\n",
    "        print(f\"  Max: {min_max['max']}\")"
   ]
  },
  {
   "cell_type": "markdown",
   "id": "f5a93a82",
   "metadata": {},
   "source": [
    "### Create a chart which shows the average number of passengers each hour of the day. (X axis should have 24 hours"
   ]
  },
  {
   "cell_type": "code",
   "execution_count": 14,
   "id": "fa0da949",
   "metadata": {},
   "outputs": [
    {
     "data": {
      "image/png": "[encoded data removed]",
      "text/plain": [
       "<Figure size 1000x500 with 1 Axes>"
      ]
     },
     "metadata": {},
     "output_type": "display_data"
    }
   ],
   "source": [
    "from collections import defaultdict\n",
    "import datetime\n",
    "\n",
    "def analyze_passengers_by_hour(filename):\n",
    "    hourly_passengers = defaultdict(list)\n",
    "    try:\n",
    "        with open(filename, 'r', newline='', encoding='utf-8') as file:\n",
    "            reader = csv.DictReader(file)\n",
    "            \n",
    "            for row in reader:\n",
    "                try:\n",
    "                    pickup_time = datetime.datetime.strptime(row['pickup_datetime'], \"%Y-%m-%d %H:%M:%S\")\n",
    "                    hour = pickup_time.hour\n",
    "                    passengers = int(row['passenger_count'])\n",
    "                    hourly_passengers[hour].append(passengers)\n",
    "                except (ValueError, KeyError) as e:\n",
    "                    print(e)\n",
    "                    continue\n",
    "        \n",
    "        hourly_avg_passengers = {hour: sum(values)/len(values) for hour, values in hourly_passengers.items()}\n",
    "        return hourly_avg_passengers\n",
    "\n",
    "    except FileNotFoundError as e:\n",
    "        print(e)\n",
    "        return None\n",
    "\n",
    "filename = 'trip_data_1.csv'\n",
    "hourly_avg_passengers = analyze_passengers_by_hour(filename)\n",
    "if hourly_avg_passengers:\n",
    "    hours = sorted(hourly_avg_passengers.keys())\n",
    "    averages = [hourly_avg_passengers[hour] for hour in hours]\n",
    "\n",
    "    plt.figure(figsize=(10, 5))\n",
    "    plt.plot(hours, averages, marker='o', linestyle='-')\n",
    "\n",
    "    plt.xlabel('Hour of the Day')\n",
    "    plt.ylabel('Average Number of Passengers')\n",
    "    plt.grid(True)\n",
    "\n",
    "    plt.show()\n",
    "\n",
    "else:\n",
    "    print(\"No data available to generate the chart.\")"
   ]
  },
  {
   "cell_type": "code",
   "execution_count": 15,
   "id": "9ba2cdd2",
   "metadata": {},
   "outputs": [
    {
     "data": {
      "image/png": "[encoded data removed]",
      "text/plain": [
       "<Figure size 1000x500 with 1 Axes>"
      ]
     },
     "metadata": {},
     "output_type": "display_data"
    }
   ],
   "source": [
    "from collections import defaultdict\n",
    "import datetime\n",
    "\n",
    "def analyze_passengers_by_hour(filename):\n",
    "    hourly_passengers = defaultdict(list)\n",
    "    try:\n",
    "        with open(filename, 'r', newline='', encoding='utf-8') as file:\n",
    "            reader = csv.DictReader(file)\n",
    "            \n",
    "            for row in reader:\n",
    "                try:\n",
    "                    pickup_time = datetime.datetime.strptime(row['pickup_datetime'], \"%Y-%m-%d %H:%M:%S\")\n",
    "                    hour = pickup_time.hour\n",
    "                    passengers = int(row['passenger_count'])\n",
    "                    hourly_passengers[hour].append(passengers)\n",
    "                except (ValueError, KeyError) as e:\n",
    "                    print(e)\n",
    "                    continue\n",
    "        \n",
    "        hourly_avg_passengers = {hour: sum(values)/len(values) for hour, values in hourly_passengers.items()}\n",
    "        return hourly_avg_passengers\n",
    "\n",
    "    except FileNotFoundError as e:\n",
    "        print(e)\n",
    "        return None\n",
    "\n",
    "filename = 'trip_data_2.csv'\n",
    "hourly_avg_passengers = analyze_passengers_by_hour(filename)\n",
    "if hourly_avg_passengers:\n",
    "    hours = sorted(hourly_avg_passengers.keys())\n",
    "    averages = [hourly_avg_passengers[hour] for hour in hours]\n",
    "\n",
    "    plt.figure(figsize=(10, 5))\n",
    "    plt.plot(hours, averages, marker='o', linestyle='-')\n",
    "\n",
    "    plt.xlabel('Hour of the Day')\n",
    "    plt.ylabel('Average Number of Passengers')\n",
    "    plt.grid(True)\n",
    "\n",
    "    plt.show()\n",
    "\n",
    "else:\n",
    "    print(\"No data available to generate the chart.\")"
   ]
  }
 ],
 "metadata": {
  "kernelspec": {
   "display_name": ".venv",
   "language": "python",
   "name": "python3"
  },
  "language_info": {
   "codemirror_mode": {
    "name": "ipython",
    "version": 3
   },
   "file_extension": ".py",
   "mimetype": "text/x-python",
   "name": "python",
   "nbconvert_exporter": "python",
   "pygments_lexer": "ipython3",
   "version": "3.11.0"
  }
 },
 "nbformat": 4,
 "nbformat_minor": 5
}
